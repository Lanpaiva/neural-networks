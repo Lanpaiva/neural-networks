{
 "cells": [
  {
   "cell_type": "code",
   "execution_count": 138,
   "metadata": {},
   "outputs": [],
   "source": [
    "import numpy as np\n",
    "import pandas as pd"
   ]
  },
  {
   "cell_type": "code",
   "execution_count": 139,
   "metadata": {},
   "outputs": [],
   "source": [
    "test = pd.read_csv(\"teste.csv\", header = None)\n",
    "train = pd.read_csv(\"treinamento.csv\", header = None)"
   ]
  },
  {
   "cell_type": "code",
   "execution_count": 140,
   "metadata": {},
   "outputs": [
    {
     "data": {
      "text/html": [
       "<div>\n",
       "<style scoped>\n",
       "    .dataframe tbody tr th:only-of-type {\n",
       "        vertical-align: middle;\n",
       "    }\n",
       "\n",
       "    .dataframe tbody tr th {\n",
       "        vertical-align: top;\n",
       "    }\n",
       "\n",
       "    .dataframe thead th {\n",
       "        text-align: right;\n",
       "    }\n",
       "</style>\n",
       "<table border=\"1\" class=\"dataframe\">\n",
       "  <thead>\n",
       "    <tr style=\"text-align: right;\">\n",
       "      <th></th>\n",
       "      <th>0</th>\n",
       "      <th>1</th>\n",
       "      <th>2</th>\n",
       "      <th>3</th>\n",
       "    </tr>\n",
       "  </thead>\n",
       "  <tbody>\n",
       "    <tr>\n",
       "      <th>0</th>\n",
       "      <td>1.4715</td>\n",
       "      <td>0.8996</td>\n",
       "      <td>1.1509</td>\n",
       "      <td>0.0</td>\n",
       "    </tr>\n",
       "    <tr>\n",
       "      <th>1</th>\n",
       "      <td>4.6315</td>\n",
       "      <td>0.3409</td>\n",
       "      <td>2.4209</td>\n",
       "      <td>0.0</td>\n",
       "    </tr>\n",
       "    <tr>\n",
       "      <th>2</th>\n",
       "      <td>2.9055</td>\n",
       "      <td>3.1858</td>\n",
       "      <td>3.1770</td>\n",
       "      <td>1.0</td>\n",
       "    </tr>\n",
       "    <tr>\n",
       "      <th>3</th>\n",
       "      <td>3.2563</td>\n",
       "      <td>4.3231</td>\n",
       "      <td>3.8009</td>\n",
       "      <td>1.0</td>\n",
       "    </tr>\n",
       "    <tr>\n",
       "      <th>4</th>\n",
       "      <td>0.2798</td>\n",
       "      <td>4.0843</td>\n",
       "      <td>2.2521</td>\n",
       "      <td>1.0</td>\n",
       "    </tr>\n",
       "    <tr>\n",
       "      <th>5</th>\n",
       "      <td>2.6446</td>\n",
       "      <td>3.4718</td>\n",
       "      <td>3.2715</td>\n",
       "      <td>1.0</td>\n",
       "    </tr>\n",
       "    <tr>\n",
       "      <th>6</th>\n",
       "      <td>1.0620</td>\n",
       "      <td>2.7164</td>\n",
       "      <td>1.7854</td>\n",
       "      <td>0.0</td>\n",
       "    </tr>\n",
       "    <tr>\n",
       "      <th>7</th>\n",
       "      <td>3.5126</td>\n",
       "      <td>4.7822</td>\n",
       "      <td>4.1947</td>\n",
       "      <td>1.0</td>\n",
       "    </tr>\n",
       "    <tr>\n",
       "      <th>8</th>\n",
       "      <td>2.2227</td>\n",
       "      <td>0.4270</td>\n",
       "      <td>1.2697</td>\n",
       "      <td>0.0</td>\n",
       "    </tr>\n",
       "    <tr>\n",
       "      <th>9</th>\n",
       "      <td>0.2867</td>\n",
       "      <td>3.1473</td>\n",
       "      <td>1.8032</td>\n",
       "      <td>1.0</td>\n",
       "    </tr>\n",
       "    <tr>\n",
       "      <th>10</th>\n",
       "      <td>3.9809</td>\n",
       "      <td>3.4560</td>\n",
       "      <td>3.5633</td>\n",
       "      <td>0.0</td>\n",
       "    </tr>\n",
       "    <tr>\n",
       "      <th>11</th>\n",
       "      <td>1.7265</td>\n",
       "      <td>4.7341</td>\n",
       "      <td>3.2849</td>\n",
       "      <td>1.0</td>\n",
       "    </tr>\n",
       "    <tr>\n",
       "      <th>12</th>\n",
       "      <td>2.6010</td>\n",
       "      <td>4.7691</td>\n",
       "      <td>3.5963</td>\n",
       "      <td>0.0</td>\n",
       "    </tr>\n",
       "    <tr>\n",
       "      <th>13</th>\n",
       "      <td>0.3680</td>\n",
       "      <td>1.0352</td>\n",
       "      <td>0.6746</td>\n",
       "      <td>0.0</td>\n",
       "    </tr>\n",
       "    <tr>\n",
       "      <th>14</th>\n",
       "      <td>3.8751</td>\n",
       "      <td>4.5709</td>\n",
       "      <td>4.2678</td>\n",
       "      <td>1.0</td>\n",
       "    </tr>\n",
       "    <tr>\n",
       "      <th>15</th>\n",
       "      <td>3.9128</td>\n",
       "      <td>1.4777</td>\n",
       "      <td>2.8539</td>\n",
       "      <td>1.0</td>\n",
       "    </tr>\n",
       "    <tr>\n",
       "      <th>16</th>\n",
       "      <td>0.7592</td>\n",
       "      <td>4.2396</td>\n",
       "      <td>2.4817</td>\n",
       "      <td>0.0</td>\n",
       "    </tr>\n",
       "    <tr>\n",
       "      <th>17</th>\n",
       "      <td>3.9243</td>\n",
       "      <td>1.3542</td>\n",
       "      <td>2.6833</td>\n",
       "      <td>1.0</td>\n",
       "    </tr>\n",
       "    <tr>\n",
       "      <th>18</th>\n",
       "      <td>1.1391</td>\n",
       "      <td>1.6051</td>\n",
       "      <td>1.4366</td>\n",
       "      <td>1.0</td>\n",
       "    </tr>\n",
       "    <tr>\n",
       "      <th>19</th>\n",
       "      <td>4.1478</td>\n",
       "      <td>4.1109</td>\n",
       "      <td>3.9658</td>\n",
       "      <td>0.0</td>\n",
       "    </tr>\n",
       "    <tr>\n",
       "      <th>20</th>\n",
       "      <td>2.8534</td>\n",
       "      <td>2.8591</td>\n",
       "      <td>2.6066</td>\n",
       "      <td>0.0</td>\n",
       "    </tr>\n",
       "    <tr>\n",
       "      <th>21</th>\n",
       "      <td>1.4301</td>\n",
       "      <td>3.4957</td>\n",
       "      <td>2.3753</td>\n",
       "      <td>0.0</td>\n",
       "    </tr>\n",
       "    <tr>\n",
       "      <th>22</th>\n",
       "      <td>3.9813</td>\n",
       "      <td>2.2079</td>\n",
       "      <td>3.1615</td>\n",
       "      <td>1.0</td>\n",
       "    </tr>\n",
       "    <tr>\n",
       "      <th>23</th>\n",
       "      <td>2.2311</td>\n",
       "      <td>2.3283</td>\n",
       "      <td>2.2591</td>\n",
       "      <td>0.0</td>\n",
       "    </tr>\n",
       "    <tr>\n",
       "      <th>24</th>\n",
       "      <td>1.3952</td>\n",
       "      <td>3.3769</td>\n",
       "      <td>2.5501</td>\n",
       "      <td>1.0</td>\n",
       "    </tr>\n",
       "    <tr>\n",
       "      <th>25</th>\n",
       "      <td>4.5183</td>\n",
       "      <td>4.5426</td>\n",
       "      <td>4.4525</td>\n",
       "      <td>0.0</td>\n",
       "    </tr>\n",
       "    <tr>\n",
       "      <th>26</th>\n",
       "      <td>3.7360</td>\n",
       "      <td>1.3026</td>\n",
       "      <td>2.4848</td>\n",
       "      <td>0.0</td>\n",
       "    </tr>\n",
       "    <tr>\n",
       "      <th>27</th>\n",
       "      <td>3.4482</td>\n",
       "      <td>0.6592</td>\n",
       "      <td>2.1827</td>\n",
       "      <td>1.0</td>\n",
       "    </tr>\n",
       "    <tr>\n",
       "      <th>28</th>\n",
       "      <td>0.6175</td>\n",
       "      <td>0.9545</td>\n",
       "      <td>0.8701</td>\n",
       "      <td>1.0</td>\n",
       "    </tr>\n",
       "    <tr>\n",
       "      <th>29</th>\n",
       "      <td>0.7287</td>\n",
       "      <td>2.9252</td>\n",
       "      <td>1.7742</td>\n",
       "      <td>0.0</td>\n",
       "    </tr>\n",
       "  </tbody>\n",
       "</table>\n",
       "</div>"
      ],
      "text/plain": [
       "         0       1       2    3\n",
       "0   1.4715  0.8996  1.1509  0.0\n",
       "1   4.6315  0.3409  2.4209  0.0\n",
       "2   2.9055  3.1858  3.1770  1.0\n",
       "3   3.2563  4.3231  3.8009  1.0\n",
       "4   0.2798  4.0843  2.2521  1.0\n",
       "5   2.6446  3.4718  3.2715  1.0\n",
       "6   1.0620  2.7164  1.7854  0.0\n",
       "7   3.5126  4.7822  4.1947  1.0\n",
       "8   2.2227  0.4270  1.2697  0.0\n",
       "9   0.2867  3.1473  1.8032  1.0\n",
       "10  3.9809  3.4560  3.5633  0.0\n",
       "11  1.7265  4.7341  3.2849  1.0\n",
       "12  2.6010  4.7691  3.5963  0.0\n",
       "13  0.3680  1.0352  0.6746  0.0\n",
       "14  3.8751  4.5709  4.2678  1.0\n",
       "15  3.9128  1.4777  2.8539  1.0\n",
       "16  0.7592  4.2396  2.4817  0.0\n",
       "17  3.9243  1.3542  2.6833  1.0\n",
       "18  1.1391  1.6051  1.4366  1.0\n",
       "19  4.1478  4.1109  3.9658  0.0\n",
       "20  2.8534  2.8591  2.6066  0.0\n",
       "21  1.4301  3.4957  2.3753  0.0\n",
       "22  3.9813  2.2079  3.1615  1.0\n",
       "23  2.2311  2.3283  2.2591  0.0\n",
       "24  1.3952  3.3769  2.5501  1.0\n",
       "25  4.5183  4.5426  4.4525  0.0\n",
       "26  3.7360  1.3026  2.4848  0.0\n",
       "27  3.4482  0.6592  2.1827  1.0\n",
       "28  0.6175  0.9545  0.8701  1.0\n",
       "29  0.7287  2.9252  1.7742  0.0"
      ]
     },
     "execution_count": 140,
     "metadata": {},
     "output_type": "execute_result"
    }
   ],
   "source": [
    "train"
   ]
  },
  {
   "cell_type": "code",
   "execution_count": 141,
   "metadata": {},
   "outputs": [
    {
     "data": {
      "text/html": [
       "<div>\n",
       "<style scoped>\n",
       "    .dataframe tbody tr th:only-of-type {\n",
       "        vertical-align: middle;\n",
       "    }\n",
       "\n",
       "    .dataframe tbody tr th {\n",
       "        vertical-align: top;\n",
       "    }\n",
       "\n",
       "    .dataframe thead th {\n",
       "        text-align: right;\n",
       "    }\n",
       "</style>\n",
       "<table border=\"1\" class=\"dataframe\">\n",
       "  <thead>\n",
       "    <tr style=\"text-align: right;\">\n",
       "      <th></th>\n",
       "      <th>0</th>\n",
       "      <th>1</th>\n",
       "      <th>2</th>\n",
       "      <th>3</th>\n",
       "    </tr>\n",
       "  </thead>\n",
       "  <tbody>\n",
       "    <tr>\n",
       "      <th>0</th>\n",
       "      <td>4.0736</td>\n",
       "      <td>4.5290</td>\n",
       "      <td>4.2580</td>\n",
       "      <td>0.0</td>\n",
       "    </tr>\n",
       "    <tr>\n",
       "      <th>1</th>\n",
       "      <td>0.6349</td>\n",
       "      <td>4.5669</td>\n",
       "      <td>2.4343</td>\n",
       "      <td>0.0</td>\n",
       "    </tr>\n",
       "    <tr>\n",
       "      <th>2</th>\n",
       "      <td>3.1618</td>\n",
       "      <td>0.4877</td>\n",
       "      <td>1.8373</td>\n",
       "      <td>0.0</td>\n",
       "    </tr>\n",
       "    <tr>\n",
       "      <th>3</th>\n",
       "      <td>1.3925</td>\n",
       "      <td>2.7344</td>\n",
       "      <td>2.0922</td>\n",
       "      <td>1.0</td>\n",
       "    </tr>\n",
       "    <tr>\n",
       "      <th>4</th>\n",
       "      <td>4.7875</td>\n",
       "      <td>4.8244</td>\n",
       "      <td>4.6913</td>\n",
       "      <td>0.0</td>\n",
       "    </tr>\n",
       "    <tr>\n",
       "      <th>5</th>\n",
       "      <td>0.7881</td>\n",
       "      <td>4.8530</td>\n",
       "      <td>2.9396</td>\n",
       "      <td>1.0</td>\n",
       "    </tr>\n",
       "    <tr>\n",
       "      <th>6</th>\n",
       "      <td>4.7858</td>\n",
       "      <td>2.4269</td>\n",
       "      <td>3.7253</td>\n",
       "      <td>1.0</td>\n",
       "    </tr>\n",
       "    <tr>\n",
       "      <th>7</th>\n",
       "      <td>4.0014</td>\n",
       "      <td>0.7094</td>\n",
       "      <td>2.3517</td>\n",
       "      <td>0.0</td>\n",
       "    </tr>\n",
       "    <tr>\n",
       "      <th>8</th>\n",
       "      <td>2.1088</td>\n",
       "      <td>4.5787</td>\n",
       "      <td>3.3765</td>\n",
       "      <td>1.0</td>\n",
       "    </tr>\n",
       "    <tr>\n",
       "      <th>9</th>\n",
       "      <td>3.9610</td>\n",
       "      <td>4.7975</td>\n",
       "      <td>4.3967</td>\n",
       "      <td>1.0</td>\n",
       "    </tr>\n",
       "  </tbody>\n",
       "</table>\n",
       "</div>"
      ],
      "text/plain": [
       "        0       1       2    3\n",
       "0  4.0736  4.5290  4.2580  0.0\n",
       "1  0.6349  4.5669  2.4343  0.0\n",
       "2  3.1618  0.4877  1.8373  0.0\n",
       "3  1.3925  2.7344  2.0922  1.0\n",
       "4  4.7875  4.8244  4.6913  0.0\n",
       "5  0.7881  4.8530  2.9396  1.0\n",
       "6  4.7858  2.4269  3.7253  1.0\n",
       "7  4.0014  0.7094  2.3517  0.0\n",
       "8  2.1088  4.5787  3.3765  1.0\n",
       "9  3.9610  4.7975  4.3967  1.0"
      ]
     },
     "execution_count": 141,
     "metadata": {},
     "output_type": "execute_result"
    }
   ],
   "source": [
    "test"
   ]
  },
  {
   "cell_type": "code",
   "execution_count": 142,
   "metadata": {},
   "outputs": [],
   "source": [
    "Namostras = len(train)\n",
    "Mamostras = len(test)"
   ]
  },
  {
   "cell_type": "code",
   "execution_count": 143,
   "metadata": {},
   "outputs": [
    {
     "data": {
      "text/plain": [
       "30"
      ]
     },
     "execution_count": 143,
     "metadata": {},
     "output_type": "execute_result"
    }
   ],
   "source": [
    "Namostras"
   ]
  },
  {
   "cell_type": "code",
   "execution_count": 144,
   "metadata": {},
   "outputs": [
    {
     "data": {
      "text/plain": [
       "10"
      ]
     },
     "execution_count": 144,
     "metadata": {},
     "output_type": "execute_result"
    }
   ],
   "source": [
    "Mamostras"
   ]
  },
  {
   "cell_type": "code",
   "execution_count": 145,
   "metadata": {},
   "outputs": [],
   "source": [
    "w = []\n",
    "for i in range(4):\n",
    "    w.append(np.random.rand())"
   ]
  },
  {
   "cell_type": "code",
   "execution_count": 146,
   "metadata": {},
   "outputs": [],
   "source": [
    "n = 0.01"
   ]
  },
  {
   "cell_type": "code",
   "execution_count": 147,
   "metadata": {},
   "outputs": [],
   "source": [
    "X = train.loc[:,0:2]\n",
    "D = train.loc[:,3]"
   ]
  },
  {
   "cell_type": "code",
   "execution_count": 148,
   "metadata": {},
   "outputs": [],
   "source": [
    "X_test = test.loc[:,0:2]\n",
    "D_test = test.loc[:,3]"
   ]
  },
  {
   "cell_type": "code",
   "execution_count": 149,
   "metadata": {},
   "outputs": [],
   "source": [
    "X[3] = -1"
   ]
  },
  {
   "cell_type": "code",
   "execution_count": 150,
   "metadata": {},
   "outputs": [],
   "source": [
    "X_test[3] = -1"
   ]
  },
  {
   "cell_type": "code",
   "execution_count": 151,
   "metadata": {},
   "outputs": [],
   "source": [
    "X = np.array(X)"
   ]
  },
  {
   "cell_type": "code",
   "execution_count": 152,
   "metadata": {},
   "outputs": [],
   "source": [
    "X_test = np.array(X_test)"
   ]
  },
  {
   "cell_type": "code",
   "execution_count": 153,
   "metadata": {},
   "outputs": [
    {
     "data": {
      "text/plain": [
       "array([[ 1.4715,  0.8996,  1.1509, -1.    ],\n",
       "       [ 4.6315,  0.3409,  2.4209, -1.    ],\n",
       "       [ 2.9055,  3.1858,  3.177 , -1.    ],\n",
       "       [ 3.2563,  4.3231,  3.8009, -1.    ],\n",
       "       [ 0.2798,  4.0843,  2.2521, -1.    ],\n",
       "       [ 2.6446,  3.4718,  3.2715, -1.    ],\n",
       "       [ 1.062 ,  2.7164,  1.7854, -1.    ],\n",
       "       [ 3.5126,  4.7822,  4.1947, -1.    ],\n",
       "       [ 2.2227,  0.427 ,  1.2697, -1.    ],\n",
       "       [ 0.2867,  3.1473,  1.8032, -1.    ],\n",
       "       [ 3.9809,  3.456 ,  3.5633, -1.    ],\n",
       "       [ 1.7265,  4.7341,  3.2849, -1.    ],\n",
       "       [ 2.601 ,  4.7691,  3.5963, -1.    ],\n",
       "       [ 0.368 ,  1.0352,  0.6746, -1.    ],\n",
       "       [ 3.8751,  4.5709,  4.2678, -1.    ],\n",
       "       [ 3.9128,  1.4777,  2.8539, -1.    ],\n",
       "       [ 0.7592,  4.2396,  2.4817, -1.    ],\n",
       "       [ 3.9243,  1.3542,  2.6833, -1.    ],\n",
       "       [ 1.1391,  1.6051,  1.4366, -1.    ],\n",
       "       [ 4.1478,  4.1109,  3.9658, -1.    ],\n",
       "       [ 2.8534,  2.8591,  2.6066, -1.    ],\n",
       "       [ 1.4301,  3.4957,  2.3753, -1.    ],\n",
       "       [ 3.9813,  2.2079,  3.1615, -1.    ],\n",
       "       [ 2.2311,  2.3283,  2.2591, -1.    ],\n",
       "       [ 1.3952,  3.3769,  2.5501, -1.    ],\n",
       "       [ 4.5183,  4.5426,  4.4525, -1.    ],\n",
       "       [ 3.736 ,  1.3026,  2.4848, -1.    ],\n",
       "       [ 3.4482,  0.6592,  2.1827, -1.    ],\n",
       "       [ 0.6175,  0.9545,  0.8701, -1.    ],\n",
       "       [ 0.7287,  2.9252,  1.7742, -1.    ]])"
      ]
     },
     "execution_count": 153,
     "metadata": {},
     "output_type": "execute_result"
    }
   ],
   "source": [
    "X"
   ]
  },
  {
   "cell_type": "code",
   "execution_count": 154,
   "metadata": {},
   "outputs": [
    {
     "data": {
      "text/plain": [
       "array([[ 4.0736,  4.529 ,  4.258 , -1.    ],\n",
       "       [ 0.6349,  4.5669,  2.4343, -1.    ],\n",
       "       [ 3.1618,  0.4877,  1.8373, -1.    ],\n",
       "       [ 1.3925,  2.7344,  2.0922, -1.    ],\n",
       "       [ 4.7875,  4.8244,  4.6913, -1.    ],\n",
       "       [ 0.7881,  4.853 ,  2.9396, -1.    ],\n",
       "       [ 4.7858,  2.4269,  3.7253, -1.    ],\n",
       "       [ 4.0014,  0.7094,  2.3517, -1.    ],\n",
       "       [ 2.1088,  4.5787,  3.3765, -1.    ],\n",
       "       [ 3.961 ,  4.7975,  4.3967, -1.    ]])"
      ]
     },
     "execution_count": 154,
     "metadata": {},
     "output_type": "execute_result"
    }
   ],
   "source": [
    "X_test"
   ]
  },
  {
   "cell_type": "code",
   "execution_count": 155,
   "metadata": {},
   "outputs": [
    {
     "data": {
      "text/plain": [
       "0     0.0\n",
       "1     0.0\n",
       "2     1.0\n",
       "3     1.0\n",
       "4     1.0\n",
       "5     1.0\n",
       "6     0.0\n",
       "7     1.0\n",
       "8     0.0\n",
       "9     1.0\n",
       "10    0.0\n",
       "11    1.0\n",
       "12    0.0\n",
       "13    0.0\n",
       "14    1.0\n",
       "15    1.0\n",
       "16    0.0\n",
       "17    1.0\n",
       "18    1.0\n",
       "19    0.0\n",
       "20    0.0\n",
       "21    0.0\n",
       "22    1.0\n",
       "23    0.0\n",
       "24    1.0\n",
       "25    0.0\n",
       "26    0.0\n",
       "27    1.0\n",
       "28    1.0\n",
       "29    0.0\n",
       "Name: 3, dtype: float64"
      ]
     },
     "execution_count": 155,
     "metadata": {},
     "output_type": "execute_result"
    }
   ],
   "source": [
    "D"
   ]
  },
  {
   "cell_type": "code",
   "execution_count": 156,
   "metadata": {},
   "outputs": [
    {
     "data": {
      "text/plain": [
       "[0.20242826327211394,\n",
       " 0.19499950428179735,\n",
       " 0.6547054534190304,\n",
       " 0.6196204808907594]"
      ]
     },
     "execution_count": 156,
     "metadata": {},
     "output_type": "execute_result"
    }
   ],
   "source": [
    "w"
   ]
  },
  {
   "cell_type": "code",
   "execution_count": 157,
   "metadata": {},
   "outputs": [
    {
     "data": {
      "text/plain": [
       "array([ 1.4715,  0.8996,  1.1509, -1.    ])"
      ]
     },
     "execution_count": 157,
     "metadata": {},
     "output_type": "execute_result"
    }
   ],
   "source": [
    "X[0]"
   ]
  },
  {
   "cell_type": "code",
   "execution_count": 158,
   "metadata": {},
   "outputs": [
    {
     "data": {
      "text/plain": [
       "array([[ 1.4715,  0.8996,  1.1509, -1.    ],\n",
       "       [ 4.6315,  0.3409,  2.4209, -1.    ],\n",
       "       [ 2.9055,  3.1858,  3.177 , -1.    ],\n",
       "       [ 3.2563,  4.3231,  3.8009, -1.    ],\n",
       "       [ 0.2798,  4.0843,  2.2521, -1.    ],\n",
       "       [ 2.6446,  3.4718,  3.2715, -1.    ],\n",
       "       [ 1.062 ,  2.7164,  1.7854, -1.    ],\n",
       "       [ 3.5126,  4.7822,  4.1947, -1.    ],\n",
       "       [ 2.2227,  0.427 ,  1.2697, -1.    ],\n",
       "       [ 0.2867,  3.1473,  1.8032, -1.    ],\n",
       "       [ 3.9809,  3.456 ,  3.5633, -1.    ],\n",
       "       [ 1.7265,  4.7341,  3.2849, -1.    ],\n",
       "       [ 2.601 ,  4.7691,  3.5963, -1.    ],\n",
       "       [ 0.368 ,  1.0352,  0.6746, -1.    ],\n",
       "       [ 3.8751,  4.5709,  4.2678, -1.    ],\n",
       "       [ 3.9128,  1.4777,  2.8539, -1.    ],\n",
       "       [ 0.7592,  4.2396,  2.4817, -1.    ],\n",
       "       [ 3.9243,  1.3542,  2.6833, -1.    ],\n",
       "       [ 1.1391,  1.6051,  1.4366, -1.    ],\n",
       "       [ 4.1478,  4.1109,  3.9658, -1.    ],\n",
       "       [ 2.8534,  2.8591,  2.6066, -1.    ],\n",
       "       [ 1.4301,  3.4957,  2.3753, -1.    ],\n",
       "       [ 3.9813,  2.2079,  3.1615, -1.    ],\n",
       "       [ 2.2311,  2.3283,  2.2591, -1.    ],\n",
       "       [ 1.3952,  3.3769,  2.5501, -1.    ],\n",
       "       [ 4.5183,  4.5426,  4.4525, -1.    ],\n",
       "       [ 3.736 ,  1.3026,  2.4848, -1.    ],\n",
       "       [ 3.4482,  0.6592,  2.1827, -1.    ],\n",
       "       [ 0.6175,  0.9545,  0.8701, -1.    ],\n",
       "       [ 0.7287,  2.9252,  1.7742, -1.    ]])"
      ]
     },
     "execution_count": 158,
     "metadata": {},
     "output_type": "execute_result"
    }
   ],
   "source": [
    "X\n"
   ]
  },
  {
   "cell_type": "code",
   "execution_count": 159,
   "metadata": {},
   "outputs": [],
   "source": [
    "error = 1\n",
    "y = np.zeros(Namostras)\n",
    "while(error):\n",
    "    error = 0\n",
    "    for k in range(Namostras):\n",
    "        u = np.dot(w,X[k])\n",
    "        if u >= 0:\n",
    "            y[k] = 1\n",
    "        else:\n",
    "            y[k] = 0\n",
    "\n",
    "            if int(y[k]) != int(D[k]):\n",
    "                w = w + n*(D[k]-y[k])*X[k]\n",
    "                error = 1"
   ]
  },
  {
   "cell_type": "code",
   "execution_count": 160,
   "metadata": {},
   "outputs": [
    {
     "data": {
      "text/plain": [
       "[0.20242826327211394,\n",
       " 0.19499950428179735,\n",
       " 0.6547054534190304,\n",
       " 0.6196204808907594]"
      ]
     },
     "execution_count": 160,
     "metadata": {},
     "output_type": "execute_result"
    }
   ],
   "source": [
    "w"
   ]
  },
  {
   "cell_type": "code",
   "execution_count": 161,
   "metadata": {},
   "outputs": [],
   "source": [
    "Namostras_test = len(test)\n"
   ]
  },
  {
   "cell_type": "code",
   "execution_count": 162,
   "metadata": {},
   "outputs": [],
   "source": [
    "\n",
    "certains = 0\n",
    "errors = 0\n",
    "y_test = np.zeros(Namostras_test)\n",
    "for k in range(Namostras_test):\n",
    "    u = np.dot(w, X_test[k])\n",
    "    if u >= 0:\n",
    "        y_test[k] = 1\n",
    "    else:\n",
    "        y_test[k] = 0\n",
    "    if y_test[k] == D_test[k]:\n",
    "            certains = certains + 1\n",
    "    else:\n",
    "            errors = errors + 1"
   ]
  },
  {
   "cell_type": "code",
   "execution_count": 163,
   "metadata": {},
   "outputs": [
    {
     "name": "stdout",
     "output_type": "stream",
     "text": [
      "Hits5\n",
      "Errors5\n"
     ]
    }
   ],
   "source": [
    "print(\"Hits\" + str(certains))\n",
    "print(\"Errors\" + str(errors))"
   ]
  }
 ],
 "metadata": {
  "kernelspec": {
   "display_name": "base",
   "language": "python",
   "name": "python3"
  },
  "language_info": {
   "codemirror_mode": {
    "name": "ipython",
    "version": 3
   },
   "file_extension": ".py",
   "mimetype": "text/x-python",
   "name": "python",
   "nbconvert_exporter": "python",
   "pygments_lexer": "ipython3",
   "version": "3.11.5"
  }
 },
 "nbformat": 4,
 "nbformat_minor": 2
}
